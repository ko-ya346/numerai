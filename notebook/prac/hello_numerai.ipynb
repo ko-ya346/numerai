{
 "cells": [
  {
   "cell_type": "markdown",
   "metadata": {},
   "source": [
    "https://colab.research.google.com/github/numerai/example-scripts/blob/master/hello_numerai.ipynb  "
   ]
  },
  {
   "cell_type": "code",
   "execution_count": 25,
   "metadata": {},
   "outputs": [],
   "source": [
    "!pip3 install -q numerapi cloudpickle\n",
    "!pip3 install -q --upgrade pip\n",
    "!pip3 install -q --no-deps numerai-tools"
   ]
  },
  {
   "cell_type": "code",
   "execution_count": 4,
   "metadata": {},
   "outputs": [],
   "source": [
    "import os\n",
    "import json\n",
    "\n",
    "from numerapi import NumerAPI\n",
    "\n",
    "import numpy as np\n",
    "import pandas as pd\n",
    "import matplotlib.pyplot as plt"
   ]
  },
  {
   "cell_type": "code",
   "execution_count": 9,
   "metadata": {},
   "outputs": [],
   "source": [
    "class cfg:\n",
    "    data_version = \"v4.3\"\n",
    "    feature_set = \"medium\""
   ]
  },
  {
   "cell_type": "code",
   "execution_count": 10,
   "metadata": {},
   "outputs": [
    {
     "name": "stdout",
     "output_type": "stream",
     "text": [
      "12\n",
      "['v5.0/features.json', 'v5.0/live.parquet', 'v5.0/live_benchmark_models.parquet', 'v5.0/live_example_preds.csv', 'v5.0/live_example_preds.parquet', 'v5.0/meta_model.parquet', 'v5.0/train.parquet', 'v5.0/train_benchmark_models.parquet', 'v5.0/validation.parquet', 'v5.0/validation_benchmark_models.parquet', 'v5.0/validation_example_preds.csv', 'v5.0/validation_example_preds.parquet']\n",
      "['v5.0']\n",
      "0\n",
      "[]\n"
     ]
    }
   ],
   "source": [
    "# データセット取得\n",
    "napi = NumerAPI()\n",
    "\n",
    "all_datasets = napi.list_datasets()\n",
    "dataset_versions = list(set(d.split(\"/\")[0] for d in all_datasets))\n",
    "print(len(all_datasets))\n",
    "\n",
    "print(all_datasets)\n",
    "print(dataset_versions)\n",
    "\n",
    "current_version_files = [f for f in all_datasets if f.startswith(cfg.data_version)]\n",
    "print(len(current_version_files))\n",
    "print(current_version_files)"
   ]
  },
  {
   "cell_type": "code",
   "execution_count": 7,
   "metadata": {},
   "outputs": [
    {
     "name": "stderr",
     "output_type": "stream",
     "text": [
      "2025-01-07 23:34:41,548 INFO numerapi.utils: starting download\n",
      "v5.0/features.json: 291kB [00:00, 549kB/s]                                                                                                                                 "
     ]
    },
    {
     "name": "stdout",
     "output_type": "stream",
     "text": [
      "feature_sets 17\n",
      "targets 37\n"
     ]
    },
    {
     "name": "stderr",
     "output_type": "stream",
     "text": [
      "\n"
     ]
    }
   ],
   "source": [
    "# feature metadata file\n",
    "napi.download_dataset(f\"{cfg.data_version}/features.json\")\n",
    "\n",
    "with open(f\"{cfg.data_version}/features.json\", \"r\") as f:\n",
    "    feature_metadata = json.load(f)\n",
    "\n",
    "for metadata in feature_metadata:\n",
    "    print(metadata, len(feature_metadata[metadata]))"
   ]
  },
  {
   "cell_type": "code",
   "execution_count": null,
   "metadata": {},
   "outputs": [
    {
     "name": "stdout",
     "output_type": "stream",
     "text": [
      "<class 'dict'>\n",
      "dict_keys(['feature_sets', 'targets'])\n",
      "dict_keys(['small', 'medium', 'all', 'v2_equivalent_features', 'v3_equivalent_features', 'fncv3_features', 'intelligence', 'charisma', 'strength', 'dexterity', 'constitution', 'wisdom', 'agility', 'serenity', 'sunshine', 'rain', 'midnight'])\n"
     ]
    },
    {
     "name": "stderr",
     "output_type": "stream",
     "text": [
      "2025-01-07 23:36:12,953 INFO numerapi.utils: starting download\n",
      "v5.0/train.parquet:  25%|███████████████████████████▌                                                                                  | 592M/2.37G [02:28<09:08, 3.24MB/s]"
     ]
    }
   ],
   "source": [
    "print(type(feature_metadata))\n",
    "print(feature_metadata.keys())\n",
    "print(feature_metadata[\"feature_sets\"].keys())\n",
    "\n",
    "feature_sets = feature_metadata[\"feature_sets\"]\n",
    "feature_set = feature_sets[cfg.feature_set]\n",
    "napi.download_dataset(f\"{cfg.data_version}/train.parquet\")"
   ]
  },
  {
   "cell_type": "code",
   "execution_count": 24,
   "metadata": {},
   "outputs": [
    {
     "name": "stderr",
     "output_type": "stream",
     "text": [
      "2024-06-15 23:20:35,203 INFO numerapi.utils: starting download\n",
      "v4.3/validation_int8.parquet: 2.57GB [09:29, 4.52MB/s]                             \n"
     ]
    },
    {
     "data": {
      "text/plain": [
       "'v4.3/validation_int8.parquet'"
      ]
     },
     "execution_count": 24,
     "metadata": {},
     "output_type": "execute_result"
    }
   ],
   "source": [
    "napi.download_dataset(f\"{cfg.data_version}/validation.parquet\")"
   ]
  },
  {
   "cell_type": "code",
   "execution_count": 27,
   "metadata": {},
   "outputs": [
    {
     "name": "stderr",
     "output_type": "stream",
     "text": [
      "2024-06-15 23:55:30,660 INFO numerapi.utils: starting download\n",
      "v4.3/meta_model.parquet: 27.4MB [00:09, 3.05MB/s]                            \n"
     ]
    },
    {
     "data": {
      "text/plain": [
       "'v4.3/meta_model.parquet'"
      ]
     },
     "execution_count": 27,
     "metadata": {},
     "output_type": "execute_result"
    }
   ],
   "source": [
    "napi.download_dataset(f\"{cfg.data_version}/meta_model.parquet\")"
   ]
  },
  {
   "cell_type": "code",
   "execution_count": 28,
   "metadata": {},
   "outputs": [
    {
     "name": "stderr",
     "output_type": "stream",
     "text": [
      "2024-06-16 14:22:02,158 INFO numerapi.utils: starting download\n",
      "v4.3/live_int8.parquet: 6.57MB [00:03, 1.64MB/s]                            \n"
     ]
    },
    {
     "data": {
      "text/plain": [
       "'v4.3/live_int8.parquet'"
      ]
     },
     "execution_count": 28,
     "metadata": {},
     "output_type": "execute_result"
    }
   ],
   "source": [
    "napi.download_dataset(f\"{cfg.data_version}/live_int8.parquet\")"
   ]
  },
  {
   "cell_type": "code",
   "execution_count": null,
   "metadata": {},
   "outputs": [],
   "source": []
  }
 ],
 "metadata": {
  "kernelspec": {
   "display_name": "Python 3 (ipykernel)",
   "language": "python",
   "name": "python3"
  },
  "language_info": {
   "codemirror_mode": {
    "name": "ipython",
    "version": 3
   },
   "file_extension": ".py",
   "mimetype": "text/x-python",
   "name": "python",
   "nbconvert_exporter": "python",
   "pygments_lexer": "ipython3",
   "version": "3.9.2"
  }
 },
 "nbformat": 4,
 "nbformat_minor": 4
}
